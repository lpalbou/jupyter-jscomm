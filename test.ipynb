{
 "cells": [
  {
   "cell_type": "code",
   "execution_count": 6,
   "id": "38172312-e7f1-4cc9-9eb3-c264753bf42a",
   "metadata": {},
   "outputs": [
    {
     "data": {
      "application/vnd.jupyter.widget-view+json": {
       "model_id": "afd0722607164c9395f50fd0733d50d0",
       "version_major": 2,
       "version_minor": 0
      },
      "text/plain": [
       "Text(value='{}', layout=Layout(display='none'), _dom_classes=('comm-class',))"
      ]
     },
     "metadata": {},
     "output_type": "display_data"
    }
   ],
   "source": [
    "from jupyter_jscomm import JSComm\n",
    "jscomm = JSComm()"
   ]
  },
  {
   "cell_type": "code",
   "execution_count": 7,
   "id": "eaf94ef3-25e7-486f-b76c-43afa576e3e7",
   "metadata": {},
   "outputs": [
    {
     "data": {
      "application/javascript": [
       "\n",
       "        var parent = document.getElementsByClassName(\"comm-class\")[0];\n",
       "        if (parent) {\n",
       "            var input = parent.querySelector(\".widget-input\");\n",
       "            if (input) {\n",
       "                input.value = '{\"axial\": \"5\"}';\n",
       "                input.dispatchEvent(new Event('input', { bubbles: true }));\n",
       "            } else {\n",
       "                console.error(\"Input element not found\");\n",
       "            }\n",
       "        } else {\n",
       "            console.error(\"Parent element not found\");\n",
       "        }\n",
       "        "
      ],
      "text/plain": [
       "<IPython.core.display.Javascript object>"
      ]
     },
     "metadata": {},
     "output_type": "display_data"
    }
   ],
   "source": [
    "jscomm.add(\"axial\", \"5\")"
   ]
  },
  {
   "cell_type": "code",
   "execution_count": 8,
   "id": "c9cfc5f5-e19b-460b-8de7-f38e9cd78cdf",
   "metadata": {},
   "outputs": [
    {
     "data": {
      "text/plain": [
       "'5'"
      ]
     },
     "execution_count": 8,
     "metadata": {},
     "output_type": "execute_result"
    }
   ],
   "source": [
    "jscomm.get(\"axial\")"
   ]
  },
  {
   "cell_type": "code",
   "execution_count": 9,
   "id": "df222b6b-d1a9-4066-8647-4155304154a1",
   "metadata": {},
   "outputs": [
    {
     "data": {
      "application/javascript": [
       "\n",
       "        var parent = document.getElementsByClassName(\"comm-class\")[0];\n",
       "        if (parent) {\n",
       "            var input = parent.querySelector(\".widget-input\");\n",
       "            if (input) {\n",
       "                input.value = '{\"axial\": {\"a\": 5, \"b\": 3}}';\n",
       "                input.dispatchEvent(new Event('input', { bubbles: true }));\n",
       "            } else {\n",
       "                console.error(\"Input element not found\");\n",
       "            }\n",
       "        } else {\n",
       "            console.error(\"Parent element not found\");\n",
       "        }\n",
       "        "
      ],
      "text/plain": [
       "<IPython.core.display.Javascript object>"
      ]
     },
     "metadata": {},
     "output_type": "display_data"
    }
   ],
   "source": [
    "jscomm.update(\"axial\", { 'a': 5, 'b' : 3 })"
   ]
  },
  {
   "cell_type": "code",
   "execution_count": 10,
   "id": "b2bdd11e-c08c-4e2c-826c-d52485772d2c",
   "metadata": {},
   "outputs": [
    {
     "data": {
      "text/plain": [
       "{'a': 5, 'b': 3}"
      ]
     },
     "execution_count": 10,
     "metadata": {},
     "output_type": "execute_result"
    }
   ],
   "source": [
    "jscomm.get(\"axial\")"
   ]
  },
  {
   "cell_type": "code",
   "execution_count": 11,
   "id": "ccd71fa7-16a2-4105-8261-85547d1fa195",
   "metadata": {},
   "outputs": [
    {
     "data": {
      "text/plain": [
       "5"
      ]
     },
     "execution_count": 11,
     "metadata": {},
     "output_type": "execute_result"
    }
   ],
   "source": [
    "jscomm.get(\"axial\")['a']"
   ]
  }
 ],
 "metadata": {
  "kernelspec": {
   "display_name": "Python 3 (ipykernel)",
   "language": "python",
   "name": "python3"
  },
  "language_info": {
   "codemirror_mode": {
    "name": "ipython",
    "version": 3
   },
   "file_extension": ".py",
   "mimetype": "text/x-python",
   "name": "python",
   "nbconvert_exporter": "python",
   "pygments_lexer": "ipython3",
   "version": "3.12.8"
  }
 },
 "nbformat": 4,
 "nbformat_minor": 5
}
