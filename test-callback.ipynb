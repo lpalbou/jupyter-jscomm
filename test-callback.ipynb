{
 "cells": [
  {
   "cell_type": "code",
   "execution_count": 12,
   "id": "9b8f4099-6941-4143-b938-7a2ba195613f",
   "metadata": {},
   "outputs": [
    {
     "data": {
      "application/vnd.jupyter.widget-view+json": {
       "model_id": "e03b6ae88b4c428c94d8260692ef1199",
       "version_major": 2,
       "version_minor": 0
      },
      "text/plain": [
       "Text(value='{}', layout=Layout(display='none'), _dom_classes=('comm-class',))"
      ]
     },
     "metadata": {},
     "output_type": "display_data"
    },
    {
     "data": {
      "application/vnd.jupyter.widget-view+json": {
       "model_id": "61e5f9225f0e4447b85f96994b67764a",
       "version_major": 2,
       "version_minor": 0
      },
      "text/plain": [
       "Button(icon='info-circle', layout=Layout(width='150px'), style=ButtonStyle())"
      ]
     },
     "metadata": {},
     "output_type": "display_data"
    }
   ],
   "source": [
    "from jupyter_jscomm import JSComm\n",
    "from IPython.display import display\n",
    "import ipywidgets as widgets\n",
    "import random\n",
    "\n",
    "jscomm = JSComm()\n",
    "\n",
    "def execute(button):\n",
    "    jscomm.set(\"axis\", {'axial': random.randint(0, 100), 'sagittal': random.randint(0, 100), 'coronal': random.randint(0, 100)})\n",
    "\n",
    "button = widgets.Button(\n",
    "    icon='info-circle',\n",
    "    layout=widgets.Layout(width='150px')\n",
    ")\n",
    "button.on_click(execute)\n",
    "display(button)"
   ]
  },
  {
   "cell_type": "code",
   "execution_count": 14,
   "id": "22a05372-800d-4912-9fa2-dd4604ebbb59",
   "metadata": {},
   "outputs": [
    {
     "data": {
      "text/plain": [
       "{'axial': 48, 'sagittal': 32, 'coronal': 43}"
      ]
     },
     "execution_count": 14,
     "metadata": {},
     "output_type": "execute_result"
    }
   ],
   "source": [
    "jscomm.get(\"axis\")"
   ]
  }
 ],
 "metadata": {
  "kernelspec": {
   "display_name": "Python 3 (ipykernel)",
   "language": "python",
   "name": "python3"
  },
  "language_info": {
   "codemirror_mode": {
    "name": "ipython",
    "version": 3
   },
   "file_extension": ".py",
   "mimetype": "text/x-python",
   "name": "python",
   "nbconvert_exporter": "python",
   "pygments_lexer": "ipython3",
   "version": "3.12.8"
  }
 },
 "nbformat": 4,
 "nbformat_minor": 5
}
